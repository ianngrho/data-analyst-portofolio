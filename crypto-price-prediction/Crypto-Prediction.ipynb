{
  "cells": [
    {
      "cell_type": "code",
      "execution_count": 1,
      "id": "4d5130ab",
      "metadata": {
        "execution": {
          "iopub.execute_input": "2025-01-05T16:41:38.860697Z",
          "iopub.status.busy": "2025-01-05T16:41:38.860320Z",
          "iopub.status.idle": "2025-01-05T16:41:51.351183Z",
          "shell.execute_reply": "2025-01-05T16:41:51.350023Z"
        },
        "papermill": {
          "duration": 12.499863,
          "end_time": "2025-01-05T16:41:51.353257",
          "exception": false,
          "start_time": "2025-01-05T16:41:38.853394",
          "status": "completed"
        },
        "tags": [],
        "id": "4d5130ab"
      },
      "outputs": [],
      "source": [
        "import seaborn as sns\n",
        "import matplotlib.pyplot as plt\n",
        "import pandas as pd\n",
        "import numpy as np\n",
        "import tensorflow as tf\n",
        "from tensorflow.keras.models import Sequential\n",
        "from tensorflow.keras.layers import LSTM, Dense, Dropout\n",
        "from sklearn.preprocessing import MinMaxScaler"
      ]
    },
    {
      "cell_type": "markdown",
      "id": "fc67ffa5",
      "metadata": {
        "papermill": {
          "duration": 0.004279,
          "end_time": "2025-01-05T16:41:51.362652",
          "exception": false,
          "start_time": "2025-01-05T16:41:51.358373",
          "status": "completed"
        },
        "tags": [],
        "id": "fc67ffa5"
      },
      "source": [
        "# EDA"
      ]
    },
    {
      "cell_type": "code",
      "execution_count": 2,
      "id": "a718c822",
      "metadata": {
        "execution": {
          "iopub.execute_input": "2025-01-05T16:41:51.372636Z",
          "iopub.status.busy": "2025-01-05T16:41:51.371959Z",
          "iopub.status.idle": "2025-01-05T16:41:51.417967Z",
          "shell.execute_reply": "2025-01-05T16:41:51.416831Z"
        },
        "papermill": {
          "duration": 0.052909,
          "end_time": "2025-01-05T16:41:51.419749",
          "exception": false,
          "start_time": "2025-01-05T16:41:51.366840",
          "status": "completed"
        },
        "tags": [],
        "colab": {
          "base_uri": "https://localhost:8080/",
          "height": 399
        },
        "id": "a718c822",
        "outputId": "7e46e18c-e37f-4ccb-88e5-291cec863484"
      },
      "outputs": [
        {
          "output_type": "execute_result",
          "data": {
            "text/plain": [
              "           unix        date    symbol    open    high     low   close  \\\n",
              "0  1.640560e+12  12-27-2021  XRP-USDT  0.9200  0.9237  0.9200  0.9226   \n",
              "1  1.640480e+12  12-26-2021  XRP-USDT  0.9252  0.9334  0.9052  0.9200   \n",
              "2  1.640390e+12  12-25-2021  XRP-USDT  0.9114  0.9350  0.8981  0.9252   \n",
              "3  1.640300e+12  12-24-2021  XRP-USDT  0.9941  0.9966  0.8964  0.9115   \n",
              "4  1.640220e+12  12-23-2021  XRP-USDT  0.9538  1.0167  0.9372  0.9941   \n",
              "\n",
              "    Volume XRP   Volume USDT  \n",
              "0    2384512.0  2.198450e+06  \n",
              "1  163438501.0  1.499400e+08  \n",
              "2  250074945.0  2.302303e+08  \n",
              "3  567234092.0  5.377035e+08  \n",
              "4  479436230.0  4.729372e+08  "
            ],
            "text/html": [
              "\n",
              "  <div id=\"df-a8440e6b-6bc2-43f1-811f-f2095e08b75d\" class=\"colab-df-container\">\n",
              "    <div>\n",
              "<style scoped>\n",
              "    .dataframe tbody tr th:only-of-type {\n",
              "        vertical-align: middle;\n",
              "    }\n",
              "\n",
              "    .dataframe tbody tr th {\n",
              "        vertical-align: top;\n",
              "    }\n",
              "\n",
              "    .dataframe thead th {\n",
              "        text-align: right;\n",
              "    }\n",
              "</style>\n",
              "<table border=\"1\" class=\"dataframe\">\n",
              "  <thead>\n",
              "    <tr style=\"text-align: right;\">\n",
              "      <th></th>\n",
              "      <th>unix</th>\n",
              "      <th>date</th>\n",
              "      <th>symbol</th>\n",
              "      <th>open</th>\n",
              "      <th>high</th>\n",
              "      <th>low</th>\n",
              "      <th>close</th>\n",
              "      <th>Volume XRP</th>\n",
              "      <th>Volume USDT</th>\n",
              "    </tr>\n",
              "  </thead>\n",
              "  <tbody>\n",
              "    <tr>\n",
              "      <th>0</th>\n",
              "      <td>1.640560e+12</td>\n",
              "      <td>12-27-2021</td>\n",
              "      <td>XRP-USDT</td>\n",
              "      <td>0.9200</td>\n",
              "      <td>0.9237</td>\n",
              "      <td>0.9200</td>\n",
              "      <td>0.9226</td>\n",
              "      <td>2384512.0</td>\n",
              "      <td>2.198450e+06</td>\n",
              "    </tr>\n",
              "    <tr>\n",
              "      <th>1</th>\n",
              "      <td>1.640480e+12</td>\n",
              "      <td>12-26-2021</td>\n",
              "      <td>XRP-USDT</td>\n",
              "      <td>0.9252</td>\n",
              "      <td>0.9334</td>\n",
              "      <td>0.9052</td>\n",
              "      <td>0.9200</td>\n",
              "      <td>163438501.0</td>\n",
              "      <td>1.499400e+08</td>\n",
              "    </tr>\n",
              "    <tr>\n",
              "      <th>2</th>\n",
              "      <td>1.640390e+12</td>\n",
              "      <td>12-25-2021</td>\n",
              "      <td>XRP-USDT</td>\n",
              "      <td>0.9114</td>\n",
              "      <td>0.9350</td>\n",
              "      <td>0.8981</td>\n",
              "      <td>0.9252</td>\n",
              "      <td>250074945.0</td>\n",
              "      <td>2.302303e+08</td>\n",
              "    </tr>\n",
              "    <tr>\n",
              "      <th>3</th>\n",
              "      <td>1.640300e+12</td>\n",
              "      <td>12-24-2021</td>\n",
              "      <td>XRP-USDT</td>\n",
              "      <td>0.9941</td>\n",
              "      <td>0.9966</td>\n",
              "      <td>0.8964</td>\n",
              "      <td>0.9115</td>\n",
              "      <td>567234092.0</td>\n",
              "      <td>5.377035e+08</td>\n",
              "    </tr>\n",
              "    <tr>\n",
              "      <th>4</th>\n",
              "      <td>1.640220e+12</td>\n",
              "      <td>12-23-2021</td>\n",
              "      <td>XRP-USDT</td>\n",
              "      <td>0.9538</td>\n",
              "      <td>1.0167</td>\n",
              "      <td>0.9372</td>\n",
              "      <td>0.9941</td>\n",
              "      <td>479436230.0</td>\n",
              "      <td>4.729372e+08</td>\n",
              "    </tr>\n",
              "  </tbody>\n",
              "</table>\n",
              "</div>\n",
              "    <div class=\"colab-df-buttons\">\n",
              "\n",
              "  <div class=\"colab-df-container\">\n",
              "    <button class=\"colab-df-convert\" onclick=\"convertToInteractive('df-a8440e6b-6bc2-43f1-811f-f2095e08b75d')\"\n",
              "            title=\"Convert this dataframe to an interactive table.\"\n",
              "            style=\"display:none;\">\n",
              "\n",
              "  <svg xmlns=\"http://www.w3.org/2000/svg\" height=\"24px\" viewBox=\"0 -960 960 960\">\n",
              "    <path d=\"M120-120v-720h720v720H120Zm60-500h600v-160H180v160Zm220 220h160v-160H400v160Zm0 220h160v-160H400v160ZM180-400h160v-160H180v160Zm440 0h160v-160H620v160ZM180-180h160v-160H180v160Zm440 0h160v-160H620v160Z\"/>\n",
              "  </svg>\n",
              "    </button>\n",
              "\n",
              "  <style>\n",
              "    .colab-df-container {\n",
              "      display:flex;\n",
              "      gap: 12px;\n",
              "    }\n",
              "\n",
              "    .colab-df-convert {\n",
              "      background-color: #E8F0FE;\n",
              "      border: none;\n",
              "      border-radius: 50%;\n",
              "      cursor: pointer;\n",
              "      display: none;\n",
              "      fill: #1967D2;\n",
              "      height: 32px;\n",
              "      padding: 0 0 0 0;\n",
              "      width: 32px;\n",
              "    }\n",
              "\n",
              "    .colab-df-convert:hover {\n",
              "      background-color: #E2EBFA;\n",
              "      box-shadow: 0px 1px 2px rgba(60, 64, 67, 0.3), 0px 1px 3px 1px rgba(60, 64, 67, 0.15);\n",
              "      fill: #174EA6;\n",
              "    }\n",
              "\n",
              "    .colab-df-buttons div {\n",
              "      margin-bottom: 4px;\n",
              "    }\n",
              "\n",
              "    [theme=dark] .colab-df-convert {\n",
              "      background-color: #3B4455;\n",
              "      fill: #D2E3FC;\n",
              "    }\n",
              "\n",
              "    [theme=dark] .colab-df-convert:hover {\n",
              "      background-color: #434B5C;\n",
              "      box-shadow: 0px 1px 3px 1px rgba(0, 0, 0, 0.15);\n",
              "      filter: drop-shadow(0px 1px 2px rgba(0, 0, 0, 0.3));\n",
              "      fill: #FFFFFF;\n",
              "    }\n",
              "  </style>\n",
              "\n",
              "    <script>\n",
              "      const buttonEl =\n",
              "        document.querySelector('#df-a8440e6b-6bc2-43f1-811f-f2095e08b75d button.colab-df-convert');\n",
              "      buttonEl.style.display =\n",
              "        google.colab.kernel.accessAllowed ? 'block' : 'none';\n",
              "\n",
              "      async function convertToInteractive(key) {\n",
              "        const element = document.querySelector('#df-a8440e6b-6bc2-43f1-811f-f2095e08b75d');\n",
              "        const dataTable =\n",
              "          await google.colab.kernel.invokeFunction('convertToInteractive',\n",
              "                                                    [key], {});\n",
              "        if (!dataTable) return;\n",
              "\n",
              "        const docLinkHtml = 'Like what you see? Visit the ' +\n",
              "          '<a target=\"_blank\" href=https://colab.research.google.com/notebooks/data_table.ipynb>data table notebook</a>'\n",
              "          + ' to learn more about interactive tables.';\n",
              "        element.innerHTML = '';\n",
              "        dataTable['output_type'] = 'display_data';\n",
              "        await google.colab.output.renderOutput(dataTable, element);\n",
              "        const docLink = document.createElement('div');\n",
              "        docLink.innerHTML = docLinkHtml;\n",
              "        element.appendChild(docLink);\n",
              "      }\n",
              "    </script>\n",
              "  </div>\n",
              "\n",
              "\n",
              "    <div id=\"df-77343f3a-8efd-4726-9c64-e349f93fafe2\">\n",
              "      <button class=\"colab-df-quickchart\" onclick=\"quickchart('df-77343f3a-8efd-4726-9c64-e349f93fafe2')\"\n",
              "                title=\"Suggest charts\"\n",
              "                style=\"display:none;\">\n",
              "\n",
              "<svg xmlns=\"http://www.w3.org/2000/svg\" height=\"24px\"viewBox=\"0 0 24 24\"\n",
              "     width=\"24px\">\n",
              "    <g>\n",
              "        <path d=\"M19 3H5c-1.1 0-2 .9-2 2v14c0 1.1.9 2 2 2h14c1.1 0 2-.9 2-2V5c0-1.1-.9-2-2-2zM9 17H7v-7h2v7zm4 0h-2V7h2v10zm4 0h-2v-4h2v4z\"/>\n",
              "    </g>\n",
              "</svg>\n",
              "      </button>\n",
              "\n",
              "<style>\n",
              "  .colab-df-quickchart {\n",
              "      --bg-color: #E8F0FE;\n",
              "      --fill-color: #1967D2;\n",
              "      --hover-bg-color: #E2EBFA;\n",
              "      --hover-fill-color: #174EA6;\n",
              "      --disabled-fill-color: #AAA;\n",
              "      --disabled-bg-color: #DDD;\n",
              "  }\n",
              "\n",
              "  [theme=dark] .colab-df-quickchart {\n",
              "      --bg-color: #3B4455;\n",
              "      --fill-color: #D2E3FC;\n",
              "      --hover-bg-color: #434B5C;\n",
              "      --hover-fill-color: #FFFFFF;\n",
              "      --disabled-bg-color: #3B4455;\n",
              "      --disabled-fill-color: #666;\n",
              "  }\n",
              "\n",
              "  .colab-df-quickchart {\n",
              "    background-color: var(--bg-color);\n",
              "    border: none;\n",
              "    border-radius: 50%;\n",
              "    cursor: pointer;\n",
              "    display: none;\n",
              "    fill: var(--fill-color);\n",
              "    height: 32px;\n",
              "    padding: 0;\n",
              "    width: 32px;\n",
              "  }\n",
              "\n",
              "  .colab-df-quickchart:hover {\n",
              "    background-color: var(--hover-bg-color);\n",
              "    box-shadow: 0 1px 2px rgba(60, 64, 67, 0.3), 0 1px 3px 1px rgba(60, 64, 67, 0.15);\n",
              "    fill: var(--button-hover-fill-color);\n",
              "  }\n",
              "\n",
              "  .colab-df-quickchart-complete:disabled,\n",
              "  .colab-df-quickchart-complete:disabled:hover {\n",
              "    background-color: var(--disabled-bg-color);\n",
              "    fill: var(--disabled-fill-color);\n",
              "    box-shadow: none;\n",
              "  }\n",
              "\n",
              "  .colab-df-spinner {\n",
              "    border: 2px solid var(--fill-color);\n",
              "    border-color: transparent;\n",
              "    border-bottom-color: var(--fill-color);\n",
              "    animation:\n",
              "      spin 1s steps(1) infinite;\n",
              "  }\n",
              "\n",
              "  @keyframes spin {\n",
              "    0% {\n",
              "      border-color: transparent;\n",
              "      border-bottom-color: var(--fill-color);\n",
              "      border-left-color: var(--fill-color);\n",
              "    }\n",
              "    20% {\n",
              "      border-color: transparent;\n",
              "      border-left-color: var(--fill-color);\n",
              "      border-top-color: var(--fill-color);\n",
              "    }\n",
              "    30% {\n",
              "      border-color: transparent;\n",
              "      border-left-color: var(--fill-color);\n",
              "      border-top-color: var(--fill-color);\n",
              "      border-right-color: var(--fill-color);\n",
              "    }\n",
              "    40% {\n",
              "      border-color: transparent;\n",
              "      border-right-color: var(--fill-color);\n",
              "      border-top-color: var(--fill-color);\n",
              "    }\n",
              "    60% {\n",
              "      border-color: transparent;\n",
              "      border-right-color: var(--fill-color);\n",
              "    }\n",
              "    80% {\n",
              "      border-color: transparent;\n",
              "      border-right-color: var(--fill-color);\n",
              "      border-bottom-color: var(--fill-color);\n",
              "    }\n",
              "    90% {\n",
              "      border-color: transparent;\n",
              "      border-bottom-color: var(--fill-color);\n",
              "    }\n",
              "  }\n",
              "</style>\n",
              "\n",
              "      <script>\n",
              "        async function quickchart(key) {\n",
              "          const quickchartButtonEl =\n",
              "            document.querySelector('#' + key + ' button');\n",
              "          quickchartButtonEl.disabled = true;  // To prevent multiple clicks.\n",
              "          quickchartButtonEl.classList.add('colab-df-spinner');\n",
              "          try {\n",
              "            const charts = await google.colab.kernel.invokeFunction(\n",
              "                'suggestCharts', [key], {});\n",
              "          } catch (error) {\n",
              "            console.error('Error during call to suggestCharts:', error);\n",
              "          }\n",
              "          quickchartButtonEl.classList.remove('colab-df-spinner');\n",
              "          quickchartButtonEl.classList.add('colab-df-quickchart-complete');\n",
              "        }\n",
              "        (() => {\n",
              "          let quickchartButtonEl =\n",
              "            document.querySelector('#df-77343f3a-8efd-4726-9c64-e349f93fafe2 button');\n",
              "          quickchartButtonEl.style.display =\n",
              "            google.colab.kernel.accessAllowed ? 'block' : 'none';\n",
              "        })();\n",
              "      </script>\n",
              "    </div>\n",
              "\n",
              "    </div>\n",
              "  </div>\n"
            ],
            "application/vnd.google.colaboratory.intrinsic+json": {
              "type": "dataframe",
              "variable_name": "data",
              "summary": "{\n  \"name\": \"data\",\n  \"rows\": 1334,\n  \"fields\": [\n    {\n      \"column\": \"unix\",\n      \"properties\": {\n        \"dtype\": \"number\",\n        \"std\": 33284472275.454582,\n        \"min\": 1525390000000.0,\n        \"max\": 1640560000000.0,\n        \"num_unique_values\": 1334,\n        \"samples\": [\n          1562980000000.0,\n          1548810000000.0,\n          1532390000000.0\n        ],\n        \"semantic_type\": \"\",\n        \"description\": \"\"\n      }\n    },\n    {\n      \"column\": \"date\",\n      \"properties\": {\n        \"dtype\": \"object\",\n        \"num_unique_values\": 1334,\n        \"samples\": [\n          \"7-13-2019\",\n          \"1-30-2019\",\n          \"7-24-2018\"\n        ],\n        \"semantic_type\": \"\",\n        \"description\": \"\"\n      }\n    },\n    {\n      \"column\": \"symbol\",\n      \"properties\": {\n        \"dtype\": \"category\",\n        \"num_unique_values\": 1,\n        \"samples\": [\n          \"XRP-USDT\"\n        ],\n        \"semantic_type\": \"\",\n        \"description\": \"\"\n      }\n    },\n    {\n      \"column\": \"open\",\n      \"properties\": {\n        \"dtype\": \"number\",\n        \"std\": 0.31990320568354164,\n        \"min\": 0.13536,\n        \"max\": 1.83396,\n        \"num_unique_values\": 1316,\n        \"samples\": [\n          0.8619\n        ],\n        \"semantic_type\": \"\",\n        \"description\": \"\"\n      }\n    },\n    {\n      \"column\": \"high\",\n      \"properties\": {\n        \"dtype\": \"number\",\n        \"std\": 0.3412163114996035,\n        \"min\": 0.14938,\n        \"max\": 1.96689,\n        \"num_unique_values\": 1291,\n        \"samples\": [\n          0.41368\n        ],\n        \"semantic_type\": \"\",\n        \"description\": \"\"\n      }\n    },\n    {\n      \"column\": \"low\",\n      \"properties\": {\n        \"dtype\": \"number\",\n        \"std\": 0.29751287652811254,\n        \"min\": 0.10129,\n        \"max\": 1.65243,\n        \"num_unique_values\": 1273,\n        \"samples\": [\n          1.1675\n        ],\n        \"semantic_type\": \"\",\n        \"description\": \"\"\n      }\n    },\n    {\n      \"column\": \"close\",\n      \"properties\": {\n        \"dtype\": \"number\",\n        \"std\": 0.3201271479477792,\n        \"min\": 0.13549,\n        \"max\": 1.83468,\n        \"num_unique_values\": 1312,\n        \"samples\": [\n          0.32194\n        ],\n        \"semantic_type\": \"\",\n        \"description\": \"\"\n      }\n    },\n    {\n      \"column\": \"Volume XRP\",\n      \"properties\": {\n        \"dtype\": \"number\",\n        \"std\": 591457430.5267392,\n        \"min\": 2384512.0,\n        \"max\": 8608358083.0,\n        \"num_unique_values\": 1334,\n        \"samples\": [\n          86057978.8\n        ],\n        \"semantic_type\": \"\",\n        \"description\": \"\"\n      }\n    },\n    {\n      \"column\": \"Volume USDT\",\n      \"properties\": {\n        \"dtype\": \"number\",\n        \"std\": 484098674.49173963,\n        \"min\": 2198450.377,\n        \"max\": 4589983779.0,\n        \"num_unique_values\": 1334,\n        \"samples\": [\n          28675157.34\n        ],\n        \"semantic_type\": \"\",\n        \"description\": \"\"\n      }\n    }\n  ]\n}"
            }
          },
          "metadata": {},
          "execution_count": 2
        }
      ],
      "source": [
        "data=pd.read_csv(\"/content/12 (2) (Data).csv\")\n",
        "data.head(5)"
      ]
    },
    {
      "cell_type": "code",
      "execution_count": 3,
      "id": "80fb5c66",
      "metadata": {
        "execution": {
          "iopub.execute_input": "2025-01-05T16:41:51.430210Z",
          "iopub.status.busy": "2025-01-05T16:41:51.429833Z",
          "iopub.status.idle": "2025-01-05T16:41:51.448111Z",
          "shell.execute_reply": "2025-01-05T16:41:51.447140Z"
        },
        "papermill": {
          "duration": 0.025264,
          "end_time": "2025-01-05T16:41:51.449758",
          "exception": false,
          "start_time": "2025-01-05T16:41:51.424494",
          "status": "completed"
        },
        "tags": [],
        "id": "80fb5c66"
      },
      "outputs": [],
      "source": [
        "from sklearn.preprocessing import LabelEncoder\n",
        "le=LabelEncoder()\n",
        "data[\"symbol\"]=le.fit_transform(data[\"symbol\"])\n",
        "data[\"date\"]=pd.to_datetime(data[\"date\"])\n",
        "data.set_index(\"date\",inplace=True)"
      ]
    },
    {
      "cell_type": "code",
      "execution_count": 4,
      "id": "512259a0",
      "metadata": {
        "execution": {
          "iopub.execute_input": "2025-01-05T16:41:51.460362Z",
          "iopub.status.busy": "2025-01-05T16:41:51.459962Z",
          "iopub.status.idle": "2025-01-05T16:41:51.485609Z",
          "shell.execute_reply": "2025-01-05T16:41:51.484431Z"
        },
        "papermill": {
          "duration": 0.03315,
          "end_time": "2025-01-05T16:41:51.487595",
          "exception": false,
          "start_time": "2025-01-05T16:41:51.454445",
          "status": "completed"
        },
        "tags": [],
        "colab": {
          "base_uri": "https://localhost:8080/"
        },
        "id": "512259a0",
        "outputId": "43710998-ff5b-4dad-fb42-8782bac49caa"
      },
      "outputs": [
        {
          "output_type": "stream",
          "name": "stdout",
          "text": [
            "<class 'pandas.core.frame.DataFrame'>\n",
            "DatetimeIndex: 1334 entries, 2021-12-27 to 2018-05-04\n",
            "Data columns (total 8 columns):\n",
            " #   Column       Non-Null Count  Dtype  \n",
            "---  ------       --------------  -----  \n",
            " 0   unix         1334 non-null   float64\n",
            " 1   symbol       1334 non-null   int64  \n",
            " 2   open         1334 non-null   float64\n",
            " 3   high         1334 non-null   float64\n",
            " 4   low          1334 non-null   float64\n",
            " 5   close        1334 non-null   float64\n",
            " 6   Volume XRP   1334 non-null   float64\n",
            " 7   Volume USDT  1334 non-null   float64\n",
            "dtypes: float64(7), int64(1)\n",
            "memory usage: 93.8 KB\n"
          ]
        }
      ],
      "source": [
        "data.info()"
      ]
    },
    {
      "cell_type": "code",
      "execution_count": 5,
      "id": "a361b6f3",
      "metadata": {
        "execution": {
          "iopub.execute_input": "2025-01-05T16:41:51.498455Z",
          "iopub.status.busy": "2025-01-05T16:41:51.498089Z",
          "iopub.status.idle": "2025-01-05T16:41:51.877561Z",
          "shell.execute_reply": "2025-01-05T16:41:51.876461Z"
        },
        "papermill": {
          "duration": 0.386919,
          "end_time": "2025-01-05T16:41:51.879387",
          "exception": false,
          "start_time": "2025-01-05T16:41:51.492468",
          "status": "completed"
        },
        "tags": [],
        "colab": {
          "base_uri": "https://localhost:8080/",
          "height": 313
        },
        "id": "a361b6f3",
        "outputId": "985f2b1f-4e7c-4826-efed-372b7fda1ae6"
      },
      "outputs": [
        {
          "output_type": "execute_result",
          "data": {
            "text/plain": [
              "<Axes: xlabel='date', ylabel='close'>"
            ]
          },
          "metadata": {},
          "execution_count": 5
        },
        {
          "output_type": "display_data",
          "data": {
            "text/plain": [
              "<Figure size 1200x500 with 1 Axes>"
            ],
            "image/png": "[encoded data removed]"
          },
          "metadata": {}
        }
      ],
      "source": [
        "plt.figure(figsize=(12,5))\n",
        "sns.lineplot(x=\"date\",y=\"close\",data=data)"
      ]
    },
    {
      "cell_type": "markdown",
      "id": "1bb27c55",
      "metadata": {
        "papermill": {
          "duration": 0.005654,
          "end_time": "2025-01-05T16:41:51.891161",
          "exception": false,
          "start_time": "2025-01-05T16:41:51.885507",
          "status": "completed"
        },
        "tags": [],
        "id": "1bb27c55"
      },
      "source": [
        "# Data Preprocessing"
      ]
    },
    {
      "cell_type": "code",
      "execution_count": 6,
      "id": "b8ca14f4",
      "metadata": {
        "execution": {
          "iopub.execute_input": "2025-01-05T16:41:51.904140Z",
          "iopub.status.busy": "2025-01-05T16:41:51.903752Z",
          "iopub.status.idle": "2025-01-05T16:41:51.909207Z",
          "shell.execute_reply": "2025-01-05T16:41:51.908200Z"
        },
        "papermill": {
          "duration": 0.014098,
          "end_time": "2025-01-05T16:41:51.911018",
          "exception": false,
          "start_time": "2025-01-05T16:41:51.896920",
          "status": "completed"
        },
        "tags": [],
        "id": "b8ca14f4"
      },
      "outputs": [],
      "source": [
        "df=data[[\"close\"]].values"
      ]
    },
    {
      "cell_type": "code",
      "execution_count": 7,
      "id": "f37ea4a9",
      "metadata": {
        "execution": {
          "iopub.execute_input": "2025-01-05T16:41:51.924670Z",
          "iopub.status.busy": "2025-01-05T16:41:51.924217Z",
          "iopub.status.idle": "2025-01-05T16:41:51.929893Z",
          "shell.execute_reply": "2025-01-05T16:41:51.928787Z"
        },
        "papermill": {
          "duration": 0.014599,
          "end_time": "2025-01-05T16:41:51.931787",
          "exception": false,
          "start_time": "2025-01-05T16:41:51.917188",
          "status": "completed"
        },
        "tags": [],
        "id": "f37ea4a9"
      },
      "outputs": [],
      "source": [
        "scaler=MinMaxScaler(feature_range=(0,1))\n",
        "scaler_data=scaler.fit_transform(df)"
      ]
    },
    {
      "cell_type": "code",
      "execution_count": 8,
      "id": "048d0c3d",
      "metadata": {
        "execution": {
          "iopub.execute_input": "2025-01-05T16:41:51.945631Z",
          "iopub.status.busy": "2025-01-05T16:41:51.945222Z",
          "iopub.status.idle": "2025-01-05T16:41:51.951279Z",
          "shell.execute_reply": "2025-01-05T16:41:51.950114Z"
        },
        "papermill": {
          "duration": 0.01518,
          "end_time": "2025-01-05T16:41:51.953344",
          "exception": false,
          "start_time": "2025-01-05T16:41:51.938164",
          "status": "completed"
        },
        "tags": [],
        "id": "048d0c3d"
      },
      "outputs": [],
      "source": [
        "def create_sequence(df,sequence_length):\n",
        "    X=[]\n",
        "    y=[]\n",
        "    for i in range (sequence_length,len(df)):\n",
        "        X.append(df[i-sequence_length:i,0])\n",
        "        y.append(df[i,0])\n",
        "    return np.array(X),np.array(y)"
      ]
    },
    {
      "cell_type": "code",
      "execution_count": 9,
      "id": "16b585b8",
      "metadata": {
        "execution": {
          "iopub.execute_input": "2025-01-05T16:41:51.967226Z",
          "iopub.status.busy": "2025-01-05T16:41:51.966786Z",
          "iopub.status.idle": "2025-01-05T16:41:51.970938Z",
          "shell.execute_reply": "2025-01-05T16:41:51.969961Z"
        },
        "papermill": {
          "duration": 0.013084,
          "end_time": "2025-01-05T16:41:51.972617",
          "exception": false,
          "start_time": "2025-01-05T16:41:51.959533",
          "status": "completed"
        },
        "tags": [],
        "id": "16b585b8"
      },
      "outputs": [],
      "source": [
        "sequence_length=10"
      ]
    },
    {
      "cell_type": "code",
      "execution_count": 10,
      "id": "15c3ced0",
      "metadata": {
        "execution": {
          "iopub.execute_input": "2025-01-05T16:41:51.986491Z",
          "iopub.status.busy": "2025-01-05T16:41:51.986000Z",
          "iopub.status.idle": "2025-01-05T16:41:51.992959Z",
          "shell.execute_reply": "2025-01-05T16:41:51.991954Z"
        },
        "papermill": {
          "duration": 0.015925,
          "end_time": "2025-01-05T16:41:51.994846",
          "exception": false,
          "start_time": "2025-01-05T16:41:51.978921",
          "status": "completed"
        },
        "tags": [],
        "id": "15c3ced0"
      },
      "outputs": [],
      "source": [
        "X,y=create_sequence(scaler_data,sequence_length)"
      ]
    },
    {
      "cell_type": "code",
      "execution_count": 11,
      "id": "fb039b88",
      "metadata": {
        "execution": {
          "iopub.execute_input": "2025-01-05T16:41:52.009029Z",
          "iopub.status.busy": "2025-01-05T16:41:52.008642Z",
          "iopub.status.idle": "2025-01-05T16:41:52.014937Z",
          "shell.execute_reply": "2025-01-05T16:41:52.013800Z"
        },
        "papermill": {
          "duration": 0.015361,
          "end_time": "2025-01-05T16:41:52.016631",
          "exception": false,
          "start_time": "2025-01-05T16:41:52.001270",
          "status": "completed"
        },
        "tags": [],
        "colab": {
          "base_uri": "https://localhost:8080/"
        },
        "id": "fb039b88",
        "outputId": "7bfff7e5-58ba-4114-815d-572c6d20b341"
      },
      "outputs": [
        {
          "output_type": "stream",
          "name": "stdout",
          "text": [
            "(1324, 10, 1) (1324,)\n"
          ]
        }
      ],
      "source": [
        "X=X.reshape((X.shape[0],X.shape[1],1))\n",
        "print(X.shape,y.shape)"
      ]
    },
    {
      "cell_type": "markdown",
      "id": "3c6bd3af",
      "metadata": {
        "papermill": {
          "duration": 0.005972,
          "end_time": "2025-01-05T16:41:52.028913",
          "exception": false,
          "start_time": "2025-01-05T16:41:52.022941",
          "status": "completed"
        },
        "tags": [],
        "id": "3c6bd3af"
      },
      "source": [
        "# Model"
      ]
    },
    {
      "cell_type": "code",
      "execution_count": 12,
      "id": "607bad95",
      "metadata": {
        "execution": {
          "iopub.execute_input": "2025-01-05T16:41:52.043196Z",
          "iopub.status.busy": "2025-01-05T16:41:52.042755Z",
          "iopub.status.idle": "2025-01-05T16:41:52.049961Z",
          "shell.execute_reply": "2025-01-05T16:41:52.048952Z"
        },
        "papermill": {
          "duration": 0.016626,
          "end_time": "2025-01-05T16:41:52.051764",
          "exception": false,
          "start_time": "2025-01-05T16:41:52.035138",
          "status": "completed"
        },
        "tags": [],
        "id": "607bad95"
      },
      "outputs": [],
      "source": [
        "model=Sequential()"
      ]
    },
    {
      "cell_type": "code",
      "execution_count": 13,
      "id": "0c060e14",
      "metadata": {
        "execution": {
          "iopub.execute_input": "2025-01-05T16:41:52.065711Z",
          "iopub.status.busy": "2025-01-05T16:41:52.065364Z",
          "iopub.status.idle": "2025-01-05T16:41:52.190167Z",
          "shell.execute_reply": "2025-01-05T16:41:52.188866Z"
        },
        "papermill": {
          "duration": 0.133838,
          "end_time": "2025-01-05T16:41:52.192019",
          "exception": false,
          "start_time": "2025-01-05T16:41:52.058181",
          "status": "completed"
        },
        "tags": [],
        "colab": {
          "base_uri": "https://localhost:8080/"
        },
        "id": "0c060e14",
        "outputId": "8604270e-08ca-442f-a55f-a6b4846767de"
      },
      "outputs": [
        {
          "output_type": "stream",
          "name": "stderr",
          "text": [
            "/usr/local/lib/python3.11/dist-packages/keras/src/layers/rnn/rnn.py:200: UserWarning: Do not pass an `input_shape`/`input_dim` argument to a layer. When using Sequential models, prefer using an `Input(shape)` object as the first layer in the model instead.\n",
            "  super().__init__(**kwargs)\n"
          ]
        }
      ],
      "source": [
        "model.add(LSTM(50,activation=\"relu\",input_shape=(X.shape[1],X.shape[2])))\n",
        "model.add(Dropout(0.2))\n",
        "model.add(Dense(1))"
      ]
    },
    {
      "cell_type": "code",
      "execution_count": 14,
      "id": "75c75a3b",
      "metadata": {
        "execution": {
          "iopub.execute_input": "2025-01-05T16:41:52.206699Z",
          "iopub.status.busy": "2025-01-05T16:41:52.206335Z",
          "iopub.status.idle": "2025-01-05T16:41:52.220601Z",
          "shell.execute_reply": "2025-01-05T16:41:52.219584Z"
        },
        "papermill": {
          "duration": 0.023906,
          "end_time": "2025-01-05T16:41:52.222666",
          "exception": false,
          "start_time": "2025-01-05T16:41:52.198760",
          "status": "completed"
        },
        "tags": [],
        "id": "75c75a3b"
      },
      "outputs": [],
      "source": [
        "model.compile(optimizer=\"adam\",loss=\"mean_squared_error\")"
      ]
    },
    {
      "cell_type": "code",
      "execution_count": 15,
      "id": "4c734b8c",
      "metadata": {
        "execution": {
          "iopub.execute_input": "2025-01-05T16:41:52.237146Z",
          "iopub.status.busy": "2025-01-05T16:41:52.236757Z",
          "iopub.status.idle": "2025-01-05T16:41:52.254719Z",
          "shell.execute_reply": "2025-01-05T16:41:52.253675Z"
        },
        "papermill": {
          "duration": 0.026978,
          "end_time": "2025-01-05T16:41:52.256274",
          "exception": false,
          "start_time": "2025-01-05T16:41:52.229296",
          "status": "completed"
        },
        "tags": [],
        "colab": {
          "base_uri": "https://localhost:8080/",
          "height": 225
        },
        "id": "4c734b8c",
        "outputId": "b08b1c45-c328-46ae-8cfb-6f208caa7296"
      },
      "outputs": [
        {
          "output_type": "display_data",
          "data": {
            "text/plain": [
              "\u001b[1mModel: \"sequential\"\u001b[0m\n"
            ],
            "text/html": [
              "<pre style=\"white-space:pre;overflow-x:auto;line-height:normal;font-family:Menlo,'DejaVu Sans Mono',consolas,'Courier New',monospace\"><span style=\"font-weight: bold\">Model: \"sequential\"</span>\n",
              "</pre>\n"
            ]
          },
          "metadata": {}
        },
        {
          "output_type": "display_data",
          "data": {
            "text/plain": [
              "┏━━━━━━━━━━━━━━━━━━━━━━━━━━━━━━━━━┳━━━━━━━━━━━━━━━━━━━━━━━━┳━━━━━━━━━━━━━━━┓\n",
              "┃\u001b[1m \u001b[0m\u001b[1mLayer (type)                   \u001b[0m\u001b[1m \u001b[0m┃\u001b[1m \u001b[0m\u001b[1mOutput Shape          \u001b[0m\u001b[1m \u001b[0m┃\u001b[1m \u001b[0m\u001b[1m      Param #\u001b[0m\u001b[1m \u001b[0m┃\n",
              "┡━━━━━━━━━━━━━━━━━━━━━━━━━━━━━━━━━╇━━━━━━━━━━━━━━━━━━━━━━━━╇━━━━━━━━━━━━━━━┩\n",
              "│ lstm (\u001b[38;5;33mLSTM\u001b[0m)                     │ (\u001b[38;5;45mNone\u001b[0m, \u001b[38;5;34m50\u001b[0m)             │        \u001b[38;5;34m10,400\u001b[0m │\n",
              "├─────────────────────────────────┼────────────────────────┼───────────────┤\n",
              "│ dropout (\u001b[38;5;33mDropout\u001b[0m)               │ (\u001b[38;5;45mNone\u001b[0m, \u001b[38;5;34m50\u001b[0m)             │             \u001b[38;5;34m0\u001b[0m │\n",
              "├─────────────────────────────────┼────────────────────────┼───────────────┤\n",
              "│ dense (\u001b[38;5;33mDense\u001b[0m)                   │ (\u001b[38;5;45mNone\u001b[0m, \u001b[38;5;34m1\u001b[0m)              │            \u001b[38;5;34m51\u001b[0m │\n",
              "└─────────────────────────────────┴────────────────────────┴───────────────┘\n"
            ],
            "text/html": [
              "<pre style=\"white-space:pre;overflow-x:auto;line-height:normal;font-family:Menlo,'DejaVu Sans Mono',consolas,'Courier New',monospace\">┏━━━━━━━━━━━━━━━━━━━━━━━━━━━━━━━━━┳━━━━━━━━━━━━━━━━━━━━━━━━┳━━━━━━━━━━━━━━━┓\n",
              "┃<span style=\"font-weight: bold\"> Layer (type)                    </span>┃<span style=\"font-weight: bold\"> Output Shape           </span>┃<span style=\"font-weight: bold\">       Param # </span>┃\n",
              "┡━━━━━━━━━━━━━━━━━━━━━━━━━━━━━━━━━╇━━━━━━━━━━━━━━━━━━━━━━━━╇━━━━━━━━━━━━━━━┩\n",
              "│ lstm (<span style=\"color: #0087ff; text-decoration-color: #0087ff\">LSTM</span>)                     │ (<span style=\"color: #00d7ff; text-decoration-color: #00d7ff\">None</span>, <span style=\"color: #00af00; text-decoration-color: #00af00\">50</span>)             │        <span style=\"color: #00af00; text-decoration-color: #00af00\">10,400</span> │\n",
              "├─────────────────────────────────┼────────────────────────┼───────────────┤\n",
              "│ dropout (<span style=\"color: #0087ff; text-decoration-color: #0087ff\">Dropout</span>)               │ (<span style=\"color: #00d7ff; text-decoration-color: #00d7ff\">None</span>, <span style=\"color: #00af00; text-decoration-color: #00af00\">50</span>)             │             <span style=\"color: #00af00; text-decoration-color: #00af00\">0</span> │\n",
              "├─────────────────────────────────┼────────────────────────┼───────────────┤\n",
              "│ dense (<span style=\"color: #0087ff; text-decoration-color: #0087ff\">Dense</span>)                   │ (<span style=\"color: #00d7ff; text-decoration-color: #00d7ff\">None</span>, <span style=\"color: #00af00; text-decoration-color: #00af00\">1</span>)              │            <span style=\"color: #00af00; text-decoration-color: #00af00\">51</span> │\n",
              "└─────────────────────────────────┴────────────────────────┴───────────────┘\n",
              "</pre>\n"
            ]
          },
          "metadata": {}
        },
        {
          "output_type": "display_data",
          "data": {
            "text/plain": [
              "\u001b[1m Total params: \u001b[0m\u001b[38;5;34m10,451\u001b[0m (40.82 KB)\n"
            ],
            "text/html": [
              "<pre style=\"white-space:pre;overflow-x:auto;line-height:normal;font-family:Menlo,'DejaVu Sans Mono',consolas,'Courier New',monospace\"><span style=\"font-weight: bold\"> Total params: </span><span style=\"color: #00af00; text-decoration-color: #00af00\">10,451</span> (40.82 KB)\n",
              "</pre>\n"
            ]
          },
          "metadata": {}
        },
        {
          "output_type": "display_data",
          "data": {
            "text/plain": [
              "\u001b[1m Trainable params: \u001b[0m\u001b[38;5;34m10,451\u001b[0m (40.82 KB)\n"
            ],
            "text/html": [
              "<pre style=\"white-space:pre;overflow-x:auto;line-height:normal;font-family:Menlo,'DejaVu Sans Mono',consolas,'Courier New',monospace\"><span style=\"font-weight: bold\"> Trainable params: </span><span style=\"color: #00af00; text-decoration-color: #00af00\">10,451</span> (40.82 KB)\n",
              "</pre>\n"
            ]
          },
          "metadata": {}
        },
        {
          "output_type": "display_data",
          "data": {
            "text/plain": [
              "\u001b[1m Non-trainable params: \u001b[0m\u001b[38;5;34m0\u001b[0m (0.00 B)\n"
            ],
            "text/html": [
              "<pre style=\"white-space:pre;overflow-x:auto;line-height:normal;font-family:Menlo,'DejaVu Sans Mono',consolas,'Courier New',monospace\"><span style=\"font-weight: bold\"> Non-trainable params: </span><span style=\"color: #00af00; text-decoration-color: #00af00\">0</span> (0.00 B)\n",
              "</pre>\n"
            ]
          },
          "metadata": {}
        }
      ],
      "source": [
        "model.summary()"
      ]
    },
    {
      "cell_type": "code",
      "execution_count": 16,
      "id": "1d55db6b",
      "metadata": {
        "execution": {
          "iopub.execute_input": "2025-01-05T16:41:52.272277Z",
          "iopub.status.busy": "2025-01-05T16:41:52.271885Z",
          "iopub.status.idle": "2025-01-05T16:42:20.627668Z",
          "shell.execute_reply": "2025-01-05T16:42:20.626744Z"
        },
        "papermill": {
          "duration": 28.3661,
          "end_time": "2025-01-05T16:42:20.629706",
          "exception": false,
          "start_time": "2025-01-05T16:41:52.263606",
          "status": "completed"
        },
        "tags": [],
        "colab": {
          "base_uri": "https://localhost:8080/"
        },
        "id": "1d55db6b",
        "outputId": "68b1aedc-5af2-4516-ecb2-9dc864586c73"
      },
      "outputs": [
        {
          "output_type": "stream",
          "name": "stdout",
          "text": [
            "Epoch 1/100\n",
            "\u001b[1m42/42\u001b[0m \u001b[32m━━━━━━━━━━━━━━━━━━━━\u001b[0m\u001b[37m\u001b[0m \u001b[1m3s\u001b[0m 7ms/step - loss: 0.0330\n",
            "Epoch 2/100\n",
            "\u001b[1m42/42\u001b[0m \u001b[32m━━━━━━━━━━━━━━━━━━━━\u001b[0m\u001b[37m\u001b[0m \u001b[1m0s\u001b[0m 6ms/step - loss: 0.0050\n",
            "Epoch 3/100\n",
            "\u001b[1m42/42\u001b[0m \u001b[32m━━━━━━━━━━━━━━━━━━━━\u001b[0m\u001b[37m\u001b[0m \u001b[1m0s\u001b[0m 7ms/step - loss: 0.0037\n",
            "Epoch 4/100\n",
            "\u001b[1m42/42\u001b[0m \u001b[32m━━━━━━━━━━━━━━━━━━━━\u001b[0m\u001b[37m\u001b[0m \u001b[1m1s\u001b[0m 7ms/step - loss: 0.0039\n",
            "Epoch 5/100\n",
            "\u001b[1m42/42\u001b[0m \u001b[32m━━━━━━━━━━━━━━━━━━━━\u001b[0m\u001b[37m\u001b[0m \u001b[1m0s\u001b[0m 6ms/step - loss: 0.0036\n",
            "Epoch 6/100\n",
            "\u001b[1m42/42\u001b[0m \u001b[32m━━━━━━━━━━━━━━━━━━━━\u001b[0m\u001b[37m\u001b[0m \u001b[1m0s\u001b[0m 7ms/step - loss: 0.0030\n",
            "Epoch 7/100\n",
            "\u001b[1m42/42\u001b[0m \u001b[32m━━━━━━━━━━━━━━━━━━━━\u001b[0m\u001b[37m\u001b[0m \u001b[1m1s\u001b[0m 6ms/step - loss: 0.0027\n",
            "Epoch 8/100\n",
            "\u001b[1m42/42\u001b[0m \u001b[32m━━━━━━━━━━━━━━━━━━━━\u001b[0m\u001b[37m\u001b[0m \u001b[1m0s\u001b[0m 7ms/step - loss: 0.0028\n",
            "Epoch 9/100\n",
            "\u001b[1m42/42\u001b[0m \u001b[32m━━━━━━━━━━━━━━━━━━━━\u001b[0m\u001b[37m\u001b[0m \u001b[1m1s\u001b[0m 6ms/step - loss: 0.0025\n",
            "Epoch 10/100\n",
            "\u001b[1m42/42\u001b[0m \u001b[32m━━━━━━━━━━━━━━━━━━━━\u001b[0m\u001b[37m\u001b[0m \u001b[1m0s\u001b[0m 7ms/step - loss: 0.0024\n",
            "Epoch 11/100\n",
            "\u001b[1m42/42\u001b[0m \u001b[32m━━━━━━━━━━━━━━━━━━━━\u001b[0m\u001b[37m\u001b[0m \u001b[1m0s\u001b[0m 7ms/step - loss: 0.0026\n",
            "Epoch 12/100\n",
            "\u001b[1m42/42\u001b[0m \u001b[32m━━━━━━━━━━━━━━━━━━━━\u001b[0m\u001b[37m\u001b[0m \u001b[1m0s\u001b[0m 7ms/step - loss: 0.0020\n",
            "Epoch 13/100\n",
            "\u001b[1m42/42\u001b[0m \u001b[32m━━━━━━━━━━━━━━━━━━━━\u001b[0m\u001b[37m\u001b[0m \u001b[1m0s\u001b[0m 7ms/step - loss: 0.0025\n",
            "Epoch 14/100\n",
            "\u001b[1m42/42\u001b[0m \u001b[32m━━━━━━━━━━━━━━━━━━━━\u001b[0m\u001b[37m\u001b[0m \u001b[1m0s\u001b[0m 7ms/step - loss: 0.0021\n",
            "Epoch 15/100\n",
            "\u001b[1m42/42\u001b[0m \u001b[32m━━━━━━━━━━━━━━━━━━━━\u001b[0m\u001b[37m\u001b[0m \u001b[1m1s\u001b[0m 7ms/step - loss: 0.0023\n",
            "Epoch 16/100\n",
            "\u001b[1m42/42\u001b[0m \u001b[32m━━━━━━━━━━━━━━━━━━━━\u001b[0m\u001b[37m\u001b[0m \u001b[1m0s\u001b[0m 6ms/step - loss: 0.0017\n",
            "Epoch 17/100\n",
            "\u001b[1m42/42\u001b[0m \u001b[32m━━━━━━━━━━━━━━━━━━━━\u001b[0m\u001b[37m\u001b[0m \u001b[1m0s\u001b[0m 7ms/step - loss: 0.0024\n",
            "Epoch 18/100\n",
            "\u001b[1m42/42\u001b[0m \u001b[32m━━━━━━━━━━━━━━━━━━━━\u001b[0m\u001b[37m\u001b[0m \u001b[1m0s\u001b[0m 7ms/step - loss: 0.0018\n",
            "Epoch 19/100\n",
            "\u001b[1m42/42\u001b[0m \u001b[32m━━━━━━━━━━━━━━━━━━━━\u001b[0m\u001b[37m\u001b[0m \u001b[1m0s\u001b[0m 7ms/step - loss: 0.0019\n",
            "Epoch 20/100\n",
            "\u001b[1m42/42\u001b[0m \u001b[32m━━━━━━━━━━━━━━━━━━━━\u001b[0m\u001b[37m\u001b[0m \u001b[1m0s\u001b[0m 7ms/step - loss: 0.0019\n",
            "Epoch 21/100\n",
            "\u001b[1m42/42\u001b[0m \u001b[32m━━━━━━━━━━━━━━━━━━━━\u001b[0m\u001b[37m\u001b[0m \u001b[1m0s\u001b[0m 7ms/step - loss: 0.0020\n",
            "Epoch 22/100\n",
            "\u001b[1m42/42\u001b[0m \u001b[32m━━━━━━━━━━━━━━━━━━━━\u001b[0m\u001b[37m\u001b[0m \u001b[1m0s\u001b[0m 6ms/step - loss: 0.0021\n",
            "Epoch 23/100\n",
            "\u001b[1m42/42\u001b[0m \u001b[32m━━━━━━━━━━━━━━━━━━━━\u001b[0m\u001b[37m\u001b[0m \u001b[1m0s\u001b[0m 7ms/step - loss: 0.0016\n",
            "Epoch 24/100\n",
            "\u001b[1m42/42\u001b[0m \u001b[32m━━━━━━━━━━━━━━━━━━━━\u001b[0m\u001b[37m\u001b[0m \u001b[1m0s\u001b[0m 10ms/step - loss: 0.0021\n",
            "Epoch 25/100\n",
            "\u001b[1m42/42\u001b[0m \u001b[32m━━━━━━━━━━━━━━━━━━━━\u001b[0m\u001b[37m\u001b[0m \u001b[1m0s\u001b[0m 9ms/step - loss: 0.0020\n",
            "Epoch 26/100\n",
            "\u001b[1m42/42\u001b[0m \u001b[32m━━━━━━━━━━━━━━━━━━━━\u001b[0m\u001b[37m\u001b[0m \u001b[1m1s\u001b[0m 9ms/step - loss: 0.0018\n",
            "Epoch 27/100\n",
            "\u001b[1m42/42\u001b[0m \u001b[32m━━━━━━━━━━━━━━━━━━━━\u001b[0m\u001b[37m\u001b[0m \u001b[1m1s\u001b[0m 10ms/step - loss: 0.0020\n",
            "Epoch 28/100\n",
            "\u001b[1m42/42\u001b[0m \u001b[32m━━━━━━━━━━━━━━━━━━━━\u001b[0m\u001b[37m\u001b[0m \u001b[1m0s\u001b[0m 9ms/step - loss: 0.0016\n",
            "Epoch 29/100\n",
            "\u001b[1m42/42\u001b[0m \u001b[32m━━━━━━━━━━━━━━━━━━━━\u001b[0m\u001b[37m\u001b[0m \u001b[1m0s\u001b[0m 7ms/step - loss: 0.0019\n",
            "Epoch 30/100\n",
            "\u001b[1m42/42\u001b[0m \u001b[32m━━━━━━━━━━━━━━━━━━━━\u001b[0m\u001b[37m\u001b[0m \u001b[1m0s\u001b[0m 6ms/step - loss: 0.0021\n",
            "Epoch 31/100\n",
            "\u001b[1m42/42\u001b[0m \u001b[32m━━━━━━━━━━━━━━━━━━━━\u001b[0m\u001b[37m\u001b[0m \u001b[1m0s\u001b[0m 7ms/step - loss: 0.0016\n",
            "Epoch 32/100\n",
            "\u001b[1m42/42\u001b[0m \u001b[32m━━━━━━━━━━━━━━━━━━━━\u001b[0m\u001b[37m\u001b[0m \u001b[1m0s\u001b[0m 7ms/step - loss: 0.0017\n",
            "Epoch 33/100\n",
            "\u001b[1m42/42\u001b[0m \u001b[32m━━━━━━━━━━━━━━━━━━━━\u001b[0m\u001b[37m\u001b[0m \u001b[1m0s\u001b[0m 7ms/step - loss: 0.0014\n",
            "Epoch 34/100\n",
            "\u001b[1m42/42\u001b[0m \u001b[32m━━━━━━━━━━━━━━━━━━━━\u001b[0m\u001b[37m\u001b[0m \u001b[1m0s\u001b[0m 6ms/step - loss: 0.0015\n",
            "Epoch 35/100\n",
            "\u001b[1m42/42\u001b[0m \u001b[32m━━━━━━━━━━━━━━━━━━━━\u001b[0m\u001b[37m\u001b[0m \u001b[1m0s\u001b[0m 6ms/step - loss: 0.0018\n",
            "Epoch 36/100\n",
            "\u001b[1m42/42\u001b[0m \u001b[32m━━━━━━━━━━━━━━━━━━━━\u001b[0m\u001b[37m\u001b[0m \u001b[1m0s\u001b[0m 6ms/step - loss: 0.0015\n",
            "Epoch 37/100\n",
            "\u001b[1m42/42\u001b[0m \u001b[32m━━━━━━━━━━━━━━━━━━━━\u001b[0m\u001b[37m\u001b[0m \u001b[1m0s\u001b[0m 6ms/step - loss: 0.0015\n",
            "Epoch 38/100\n",
            "\u001b[1m42/42\u001b[0m \u001b[32m━━━━━━━━━━━━━━━━━━━━\u001b[0m\u001b[37m\u001b[0m \u001b[1m0s\u001b[0m 7ms/step - loss: 0.0016\n",
            "Epoch 39/100\n",
            "\u001b[1m42/42\u001b[0m \u001b[32m━━━━━━━━━━━━━━━━━━━━\u001b[0m\u001b[37m\u001b[0m \u001b[1m0s\u001b[0m 6ms/step - loss: 0.0016\n",
            "Epoch 40/100\n",
            "\u001b[1m42/42\u001b[0m \u001b[32m━━━━━━━━━━━━━━━━━━━━\u001b[0m\u001b[37m\u001b[0m \u001b[1m0s\u001b[0m 6ms/step - loss: 0.0016\n",
            "Epoch 41/100\n",
            "\u001b[1m42/42\u001b[0m \u001b[32m━━━━━━━━━━━━━━━━━━━━\u001b[0m\u001b[37m\u001b[0m \u001b[1m0s\u001b[0m 6ms/step - loss: 0.0020\n",
            "Epoch 42/100\n",
            "\u001b[1m42/42\u001b[0m \u001b[32m━━━━━━━━━━━━━━━━━━━━\u001b[0m\u001b[37m\u001b[0m \u001b[1m0s\u001b[0m 7ms/step - loss: 0.0014\n",
            "Epoch 43/100\n",
            "\u001b[1m42/42\u001b[0m \u001b[32m━━━━━━━━━━━━━━━━━━━━\u001b[0m\u001b[37m\u001b[0m \u001b[1m0s\u001b[0m 7ms/step - loss: 0.0015\n",
            "Epoch 44/100\n",
            "\u001b[1m42/42\u001b[0m \u001b[32m━━━━━━━━━━━━━━━━━━━━\u001b[0m\u001b[37m\u001b[0m \u001b[1m1s\u001b[0m 7ms/step - loss: 0.0017\n",
            "Epoch 45/100\n",
            "\u001b[1m42/42\u001b[0m \u001b[32m━━━━━━━━━━━━━━━━━━━━\u001b[0m\u001b[37m\u001b[0m \u001b[1m0s\u001b[0m 7ms/step - loss: 0.0015\n",
            "Epoch 46/100\n",
            "\u001b[1m42/42\u001b[0m \u001b[32m━━━━━━━━━━━━━━━━━━━━\u001b[0m\u001b[37m\u001b[0m \u001b[1m0s\u001b[0m 7ms/step - loss: 0.0015\n",
            "Epoch 47/100\n",
            "\u001b[1m42/42\u001b[0m \u001b[32m━━━━━━━━━━━━━━━━━━━━\u001b[0m\u001b[37m\u001b[0m \u001b[1m0s\u001b[0m 7ms/step - loss: 0.0016\n",
            "Epoch 48/100\n",
            "\u001b[1m42/42\u001b[0m \u001b[32m━━━━━━━━━━━━━━━━━━━━\u001b[0m\u001b[37m\u001b[0m \u001b[1m1s\u001b[0m 7ms/step - loss: 0.0017\n",
            "Epoch 49/100\n",
            "\u001b[1m42/42\u001b[0m \u001b[32m━━━━━━━━━━━━━━━━━━━━\u001b[0m\u001b[37m\u001b[0m \u001b[1m0s\u001b[0m 7ms/step - loss: 0.0023\n",
            "Epoch 50/100\n",
            "\u001b[1m42/42\u001b[0m \u001b[32m━━━━━━━━━━━━━━━━━━━━\u001b[0m\u001b[37m\u001b[0m \u001b[1m0s\u001b[0m 7ms/step - loss: 0.0015\n",
            "Epoch 51/100\n",
            "\u001b[1m42/42\u001b[0m \u001b[32m━━━━━━━━━━━━━━━━━━━━\u001b[0m\u001b[37m\u001b[0m \u001b[1m1s\u001b[0m 6ms/step - loss: 0.0014\n",
            "Epoch 52/100\n",
            "\u001b[1m42/42\u001b[0m \u001b[32m━━━━━━━━━━━━━━━━━━━━\u001b[0m\u001b[37m\u001b[0m \u001b[1m0s\u001b[0m 7ms/step - loss: 0.0016\n",
            "Epoch 53/100\n",
            "\u001b[1m42/42\u001b[0m \u001b[32m━━━━━━━━━━━━━━━━━━━━\u001b[0m\u001b[37m\u001b[0m \u001b[1m1s\u001b[0m 6ms/step - loss: 0.0019\n",
            "Epoch 54/100\n",
            "\u001b[1m42/42\u001b[0m \u001b[32m━━━━━━━━━━━━━━━━━━━━\u001b[0m\u001b[37m\u001b[0m \u001b[1m0s\u001b[0m 7ms/step - loss: 0.0014\n",
            "Epoch 55/100\n",
            "\u001b[1m42/42\u001b[0m \u001b[32m━━━━━━━━━━━━━━━━━━━━\u001b[0m\u001b[37m\u001b[0m \u001b[1m0s\u001b[0m 8ms/step - loss: 0.0019\n",
            "Epoch 56/100\n",
            "\u001b[1m42/42\u001b[0m \u001b[32m━━━━━━━━━━━━━━━━━━━━\u001b[0m\u001b[37m\u001b[0m \u001b[1m1s\u001b[0m 12ms/step - loss: 0.0014\n",
            "Epoch 57/100\n",
            "\u001b[1m42/42\u001b[0m \u001b[32m━━━━━━━━━━━━━━━━━━━━\u001b[0m\u001b[37m\u001b[0m \u001b[1m0s\u001b[0m 9ms/step - loss: 0.0016\n",
            "Epoch 58/100\n",
            "\u001b[1m42/42\u001b[0m \u001b[32m━━━━━━━━━━━━━━━━━━━━\u001b[0m\u001b[37m\u001b[0m \u001b[1m1s\u001b[0m 9ms/step - loss: 0.0015\n",
            "Epoch 59/100\n",
            "\u001b[1m42/42\u001b[0m \u001b[32m━━━━━━━━━━━━━━━━━━━━\u001b[0m\u001b[37m\u001b[0m \u001b[1m0s\u001b[0m 9ms/step - loss: 0.0015\n",
            "Epoch 60/100\n",
            "\u001b[1m42/42\u001b[0m \u001b[32m━━━━━━━━━━━━━━━━━━━━\u001b[0m\u001b[37m\u001b[0m \u001b[1m1s\u001b[0m 10ms/step - loss: 0.0012\n",
            "Epoch 61/100\n",
            "\u001b[1m42/42\u001b[0m \u001b[32m━━━━━━━━━━━━━━━━━━━━\u001b[0m\u001b[37m\u001b[0m \u001b[1m0s\u001b[0m 7ms/step - loss: 0.0014\n",
            "Epoch 62/100\n",
            "\u001b[1m42/42\u001b[0m \u001b[32m━━━━━━━━━━━━━━━━━━━━\u001b[0m\u001b[37m\u001b[0m \u001b[1m1s\u001b[0m 6ms/step - loss: 0.0016\n",
            "Epoch 63/100\n",
            "\u001b[1m42/42\u001b[0m \u001b[32m━━━━━━━━━━━━━━━━━━━━\u001b[0m\u001b[37m\u001b[0m \u001b[1m0s\u001b[0m 7ms/step - loss: 0.0015\n",
            "Epoch 64/100\n",
            "\u001b[1m42/42\u001b[0m \u001b[32m━━━━━━━━━━━━━━━━━━━━\u001b[0m\u001b[37m\u001b[0m \u001b[1m0s\u001b[0m 7ms/step - loss: 0.0016\n",
            "Epoch 65/100\n",
            "\u001b[1m42/42\u001b[0m \u001b[32m━━━━━━━━━━━━━━━━━━━━\u001b[0m\u001b[37m\u001b[0m \u001b[1m0s\u001b[0m 6ms/step - loss: 0.0013\n",
            "Epoch 66/100\n",
            "\u001b[1m42/42\u001b[0m \u001b[32m━━━━━━━━━━━━━━━━━━━━\u001b[0m\u001b[37m\u001b[0m \u001b[1m0s\u001b[0m 7ms/step - loss: 0.0017\n",
            "Epoch 67/100\n",
            "\u001b[1m42/42\u001b[0m \u001b[32m━━━━━━━━━━━━━━━━━━━━\u001b[0m\u001b[37m\u001b[0m \u001b[1m1s\u001b[0m 6ms/step - loss: 0.0013\n",
            "Epoch 68/100\n",
            "\u001b[1m42/42\u001b[0m \u001b[32m━━━━━━━━━━━━━━━━━━━━\u001b[0m\u001b[37m\u001b[0m \u001b[1m0s\u001b[0m 7ms/step - loss: 0.0014\n",
            "Epoch 69/100\n",
            "\u001b[1m42/42\u001b[0m \u001b[32m━━━━━━━━━━━━━━━━━━━━\u001b[0m\u001b[37m\u001b[0m \u001b[1m0s\u001b[0m 6ms/step - loss: 0.0014\n",
            "Epoch 70/100\n",
            "\u001b[1m42/42\u001b[0m \u001b[32m━━━━━━━━━━━━━━━━━━━━\u001b[0m\u001b[37m\u001b[0m \u001b[1m0s\u001b[0m 7ms/step - loss: 0.0016\n",
            "Epoch 71/100\n",
            "\u001b[1m42/42\u001b[0m \u001b[32m━━━━━━━━━━━━━━━━━━━━\u001b[0m\u001b[37m\u001b[0m \u001b[1m1s\u001b[0m 7ms/step - loss: 0.0013\n",
            "Epoch 72/100\n",
            "\u001b[1m42/42\u001b[0m \u001b[32m━━━━━━━━━━━━━━━━━━━━\u001b[0m\u001b[37m\u001b[0m \u001b[1m0s\u001b[0m 7ms/step - loss: 0.0017\n",
            "Epoch 73/100\n",
            "\u001b[1m42/42\u001b[0m \u001b[32m━━━━━━━━━━━━━━━━━━━━\u001b[0m\u001b[37m\u001b[0m \u001b[1m0s\u001b[0m 6ms/step - loss: 0.0013\n",
            "Epoch 74/100\n",
            "\u001b[1m42/42\u001b[0m \u001b[32m━━━━━━━━━━━━━━━━━━━━\u001b[0m\u001b[37m\u001b[0m \u001b[1m0s\u001b[0m 7ms/step - loss: 0.0012\n",
            "Epoch 75/100\n",
            "\u001b[1m42/42\u001b[0m \u001b[32m━━━━━━━━━━━━━━━━━━━━\u001b[0m\u001b[37m\u001b[0m \u001b[1m1s\u001b[0m 6ms/step - loss: 0.0011\n",
            "Epoch 76/100\n",
            "\u001b[1m42/42\u001b[0m \u001b[32m━━━━━━━━━━━━━━━━━━━━\u001b[0m\u001b[37m\u001b[0m \u001b[1m0s\u001b[0m 7ms/step - loss: 0.0012\n",
            "Epoch 77/100\n",
            "\u001b[1m42/42\u001b[0m \u001b[32m━━━━━━━━━━━━━━━━━━━━\u001b[0m\u001b[37m\u001b[0m \u001b[1m1s\u001b[0m 6ms/step - loss: 0.0014\n",
            "Epoch 78/100\n",
            "\u001b[1m42/42\u001b[0m \u001b[32m━━━━━━━━━━━━━━━━━━━━\u001b[0m\u001b[37m\u001b[0m \u001b[1m0s\u001b[0m 7ms/step - loss: 0.0017\n",
            "Epoch 79/100\n",
            "\u001b[1m42/42\u001b[0m \u001b[32m━━━━━━━━━━━━━━━━━━━━\u001b[0m\u001b[37m\u001b[0m \u001b[1m0s\u001b[0m 7ms/step - loss: 0.0015\n",
            "Epoch 80/100\n",
            "\u001b[1m42/42\u001b[0m \u001b[32m━━━━━━━━━━━━━━━━━━━━\u001b[0m\u001b[37m\u001b[0m \u001b[1m0s\u001b[0m 6ms/step - loss: 0.0014\n",
            "Epoch 81/100\n",
            "\u001b[1m42/42\u001b[0m \u001b[32m━━━━━━━━━━━━━━━━━━━━\u001b[0m\u001b[37m\u001b[0m \u001b[1m0s\u001b[0m 6ms/step - loss: 0.0013\n",
            "Epoch 82/100\n",
            "\u001b[1m42/42\u001b[0m \u001b[32m━━━━━━━━━━━━━━━━━━━━\u001b[0m\u001b[37m\u001b[0m \u001b[1m0s\u001b[0m 7ms/step - loss: 0.0015\n",
            "Epoch 83/100\n",
            "\u001b[1m42/42\u001b[0m \u001b[32m━━━━━━━━━━━━━━━━━━━━\u001b[0m\u001b[37m\u001b[0m \u001b[1m0s\u001b[0m 7ms/step - loss: 0.0015\n",
            "Epoch 84/100\n",
            "\u001b[1m42/42\u001b[0m \u001b[32m━━━━━━━━━━━━━━━━━━━━\u001b[0m\u001b[37m\u001b[0m \u001b[1m1s\u001b[0m 7ms/step - loss: 0.0011\n",
            "Epoch 85/100\n",
            "\u001b[1m42/42\u001b[0m \u001b[32m━━━━━━━━━━━━━━━━━━━━\u001b[0m\u001b[37m\u001b[0m \u001b[1m0s\u001b[0m 7ms/step - loss: 0.0013\n",
            "Epoch 86/100\n",
            "\u001b[1m42/42\u001b[0m \u001b[32m━━━━━━━━━━━━━━━━━━━━\u001b[0m\u001b[37m\u001b[0m \u001b[1m0s\u001b[0m 7ms/step - loss: 0.0012\n",
            "Epoch 87/100\n",
            "\u001b[1m42/42\u001b[0m \u001b[32m━━━━━━━━━━━━━━━━━━━━\u001b[0m\u001b[37m\u001b[0m \u001b[1m0s\u001b[0m 11ms/step - loss: 0.0013\n",
            "Epoch 88/100\n",
            "\u001b[1m42/42\u001b[0m \u001b[32m━━━━━━━━━━━━━━━━━━━━\u001b[0m\u001b[37m\u001b[0m \u001b[1m1s\u001b[0m 9ms/step - loss: 0.0014\n",
            "Epoch 89/100\n",
            "\u001b[1m42/42\u001b[0m \u001b[32m━━━━━━━━━━━━━━━━━━━━\u001b[0m\u001b[37m\u001b[0m \u001b[1m1s\u001b[0m 10ms/step - loss: 0.0013\n",
            "Epoch 90/100\n",
            "\u001b[1m42/42\u001b[0m \u001b[32m━━━━━━━━━━━━━━━━━━━━\u001b[0m\u001b[37m\u001b[0m \u001b[1m1s\u001b[0m 10ms/step - loss: 0.0016\n",
            "Epoch 91/100\n",
            "\u001b[1m42/42\u001b[0m \u001b[32m━━━━━━━━━━━━━━━━━━━━\u001b[0m\u001b[37m\u001b[0m \u001b[1m1s\u001b[0m 7ms/step - loss: 0.0013\n",
            "Epoch 92/100\n",
            "\u001b[1m42/42\u001b[0m \u001b[32m━━━━━━━━━━━━━━━━━━━━\u001b[0m\u001b[37m\u001b[0m \u001b[1m1s\u001b[0m 6ms/step - loss: 0.0012\n",
            "Epoch 93/100\n",
            "\u001b[1m42/42\u001b[0m \u001b[32m━━━━━━━━━━━━━━━━━━━━\u001b[0m\u001b[37m\u001b[0m \u001b[1m0s\u001b[0m 7ms/step - loss: 0.0013\n",
            "Epoch 94/100\n",
            "\u001b[1m42/42\u001b[0m \u001b[32m━━━━━━━━━━━━━━━━━━━━\u001b[0m\u001b[37m\u001b[0m \u001b[1m0s\u001b[0m 6ms/step - loss: 0.0012\n",
            "Epoch 95/100\n",
            "\u001b[1m42/42\u001b[0m \u001b[32m━━━━━━━━━━━━━━━━━━━━\u001b[0m\u001b[37m\u001b[0m \u001b[1m0s\u001b[0m 6ms/step - loss: 0.0017\n",
            "Epoch 96/100\n",
            "\u001b[1m42/42\u001b[0m \u001b[32m━━━━━━━━━━━━━━━━━━━━\u001b[0m\u001b[37m\u001b[0m \u001b[1m0s\u001b[0m 6ms/step - loss: 0.0015\n",
            "Epoch 97/100\n",
            "\u001b[1m42/42\u001b[0m \u001b[32m━━━━━━━━━━━━━━━━━━━━\u001b[0m\u001b[37m\u001b[0m \u001b[1m0s\u001b[0m 7ms/step - loss: 0.0013\n",
            "Epoch 98/100\n",
            "\u001b[1m42/42\u001b[0m \u001b[32m━━━━━━━━━━━━━━━━━━━━\u001b[0m\u001b[37m\u001b[0m \u001b[1m0s\u001b[0m 7ms/step - loss: 0.0013\n",
            "Epoch 99/100\n",
            "\u001b[1m42/42\u001b[0m \u001b[32m━━━━━━━━━━━━━━━━━━━━\u001b[0m\u001b[37m\u001b[0m \u001b[1m0s\u001b[0m 7ms/step - loss: 0.0012\n",
            "Epoch 100/100\n",
            "\u001b[1m42/42\u001b[0m \u001b[32m━━━━━━━━━━━━━━━━━━━━\u001b[0m\u001b[37m\u001b[0m \u001b[1m0s\u001b[0m 7ms/step - loss: 0.0015\n"
          ]
        },
        {
          "output_type": "execute_result",
          "data": {
            "text/plain": [
              "<keras.src.callbacks.history.History at 0x79292be7b910>"
            ]
          },
          "metadata": {},
          "execution_count": 16
        }
      ],
      "source": [
        "model.fit(X,y,epochs=100,batch_size=32,verbose=1)"
      ]
    },
    {
      "cell_type": "markdown",
      "id": "58658322",
      "metadata": {
        "papermill": {
          "duration": 0.045273,
          "end_time": "2025-01-05T16:42:20.722217",
          "exception": false,
          "start_time": "2025-01-05T16:42:20.676944",
          "status": "completed"
        },
        "tags": [],
        "id": "58658322"
      },
      "source": [
        "# Model Evaluation"
      ]
    },
    {
      "cell_type": "code",
      "execution_count": 17,
      "id": "a032e392",
      "metadata": {
        "execution": {
          "iopub.execute_input": "2025-01-05T16:42:20.813907Z",
          "iopub.status.busy": "2025-01-05T16:42:20.813576Z",
          "iopub.status.idle": "2025-01-05T16:42:21.205615Z",
          "shell.execute_reply": "2025-01-05T16:42:21.204297Z"
        },
        "papermill": {
          "duration": 0.440142,
          "end_time": "2025-01-05T16:42:21.207675",
          "exception": false,
          "start_time": "2025-01-05T16:42:20.767533",
          "status": "completed"
        },
        "tags": [],
        "colab": {
          "base_uri": "https://localhost:8080/"
        },
        "id": "a032e392",
        "outputId": "150cdfb6-8855-45e7-db54-8258d3b11205"
      },
      "outputs": [
        {
          "output_type": "stream",
          "name": "stdout",
          "text": [
            "\u001b[1m42/42\u001b[0m \u001b[32m━━━━━━━━━━━━━━━━━━━━\u001b[0m\u001b[37m\u001b[0m \u001b[1m0s\u001b[0m 3ms/step - loss: 0.0013\n",
            "Model loss: 0.0007547392742708325\n"
          ]
        }
      ],
      "source": [
        "loss=model.evaluate(X,y)\n",
        "print(\"Model loss:\",loss)"
      ]
    },
    {
      "cell_type": "code",
      "execution_count": 18,
      "id": "b46cfe68",
      "metadata": {
        "execution": {
          "iopub.execute_input": "2025-01-05T16:42:21.302025Z",
          "iopub.status.busy": "2025-01-05T16:42:21.301661Z",
          "iopub.status.idle": "2025-01-05T16:42:21.794197Z",
          "shell.execute_reply": "2025-01-05T16:42:21.792680Z"
        },
        "papermill": {
          "duration": 0.541748,
          "end_time": "2025-01-05T16:42:21.795871",
          "exception": false,
          "start_time": "2025-01-05T16:42:21.254123",
          "status": "completed"
        },
        "tags": [],
        "colab": {
          "base_uri": "https://localhost:8080/"
        },
        "id": "b46cfe68",
        "outputId": "a9d00237-af9c-4295-dc96-39f66478bb2b"
      },
      "outputs": [
        {
          "output_type": "stream",
          "name": "stdout",
          "text": [
            "\u001b[1m42/42\u001b[0m \u001b[32m━━━━━━━━━━━━━━━━━━━━\u001b[0m\u001b[37m\u001b[0m \u001b[1m1s\u001b[0m 7ms/step\n",
            "[[0.81660926]\n",
            " [0.7897156 ]\n",
            " [0.7874695 ]\n",
            " [0.80373645]\n",
            " [0.80493784]\n",
            " [0.7878355 ]\n",
            " [0.8104754 ]\n",
            " [0.82465273]\n",
            " [0.80952656]\n",
            " [0.832115  ]]\n"
          ]
        }
      ],
      "source": [
        "predictions=model.predict(X)\n",
        "predictions=scaler.inverse_transform(predictions)\n",
        "print(predictions[:10])"
      ]
    },
    {
      "cell_type": "code",
      "execution_count": 19,
      "id": "bbb220dc",
      "metadata": {
        "execution": {
          "iopub.execute_input": "2025-01-05T16:42:21.890307Z",
          "iopub.status.busy": "2025-01-05T16:42:21.889908Z",
          "iopub.status.idle": "2025-01-05T16:42:21.894664Z",
          "shell.execute_reply": "2025-01-05T16:42:21.893595Z"
        },
        "papermill": {
          "duration": 0.054004,
          "end_time": "2025-01-05T16:42:21.896252",
          "exception": false,
          "start_time": "2025-01-05T16:42:21.842248",
          "status": "completed"
        },
        "tags": [],
        "id": "bbb220dc"
      },
      "outputs": [],
      "source": [
        "actual_values=scaler.inverse_transform(y.reshape(-1,1))"
      ]
    },
    {
      "cell_type": "markdown",
      "id": "1deb0cc7",
      "metadata": {
        "papermill": {
          "duration": 0.046134,
          "end_time": "2025-01-05T16:42:21.990655",
          "exception": false,
          "start_time": "2025-01-05T16:42:21.944521",
          "status": "completed"
        },
        "tags": [],
        "id": "1deb0cc7"
      },
      "source": [
        "# Actual Vs Predicted"
      ]
    },
    {
      "cell_type": "code",
      "execution_count": 20,
      "id": "bb6e20cc",
      "metadata": {
        "execution": {
          "iopub.execute_input": "2025-01-05T16:42:22.085073Z",
          "iopub.status.busy": "2025-01-05T16:42:22.084710Z",
          "iopub.status.idle": "2025-01-05T16:42:22.339872Z",
          "shell.execute_reply": "2025-01-05T16:42:22.338535Z"
        },
        "papermill": {
          "duration": 0.305355,
          "end_time": "2025-01-05T16:42:22.341669",
          "exception": false,
          "start_time": "2025-01-05T16:42:22.036314",
          "status": "completed"
        },
        "tags": [],
        "colab": {
          "base_uri": "https://localhost:8080/",
          "height": 584
        },
        "id": "bb6e20cc",
        "outputId": "930d48ec-efb5-444a-f394-8407e7f1a5f2"
      },
      "outputs": [
        {
          "output_type": "display_data",
          "data": {
            "text/plain": [
              "<Figure size 1000x600 with 1 Axes>"
            ],
            "image/png": "[encoded data removed]"
          },
          "metadata": {}
        }
      ],
      "source": [
        "plt.figure(figsize=(10, 6))\n",
        "plt.plot(actual_values, label=\"Actual Values\",color=\"blue\")\n",
        "plt.plot(predictions, label=\"Predicted Values\",color=\"orange\")\n",
        "plt.legend()\n",
        "plt.title('LSTM Prediction vs Actual Values')\n",
        "plt.xlabel('Time Step')\n",
        "plt.ylabel('Value')\n",
        "plt.show()"
      ]
    }
  ],
  "metadata": {
    "kaggle": {
      "accelerator": "none",
      "dataSources": [
        {
          "datasetId": 2066936,
          "sourceId": 10361423,
          "sourceType": "datasetVersion"
        }
      ],
      "isGpuEnabled": false,
      "isInternetEnabled": true,
      "language": "python",
      "sourceType": "notebook"
    },
    "kernelspec": {
      "display_name": "Python 3 (ipykernel)",
      "language": "python",
      "name": "python3"
    },
    "language_info": {
      "codemirror_mode": {
        "name": "ipython",
        "version": 3
      },
      "file_extension": ".py",
      "mimetype": "text/x-python",
      "name": "python",
      "nbconvert_exporter": "python",
      "pygments_lexer": "ipython3",
      "version": "3.10.12"
    },
    "papermill": {
      "default_parameters": {},
      "duration": 48.601342,
      "end_time": "2025-01-05T16:42:25.173834",
      "environment_variables": {},
      "exception": null,
      "input_path": "__notebook__.ipynb",
      "output_path": "__notebook__.ipynb",
      "parameters": {},
      "start_time": "2025-01-05T16:41:36.572492",
      "version": "2.6.0"
    },
    "colab": {
      "provenance": []
    }
  },
  "nbformat": 4,
  "nbformat_minor": 5
}